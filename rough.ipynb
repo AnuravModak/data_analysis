{
 "cells": [
  {
   "cell_type": "code",
   "execution_count": 1,
   "id": "ecd4fda9",
   "metadata": {
    "scrolled": true
   },
   "outputs": [
    {
     "data": {
      "text/html": [
       "<div>\n",
       "<style scoped>\n",
       "    .dataframe tbody tr th:only-of-type {\n",
       "        vertical-align: middle;\n",
       "    }\n",
       "\n",
       "    .dataframe tbody tr th {\n",
       "        vertical-align: top;\n",
       "    }\n",
       "\n",
       "    .dataframe thead th {\n",
       "        text-align: right;\n",
       "    }\n",
       "</style>\n",
       "<table border=\"1\" class=\"dataframe\">\n",
       "  <thead>\n",
       "    <tr style=\"text-align: right;\">\n",
       "      <th></th>\n",
       "      <th>Unnamed: 0</th>\n",
       "      <th>Assessment Number</th>\n",
       "      <th>Owner Name</th>\n",
       "      <th>Address</th>\n",
       "      <th>Current First Half Tax</th>\n",
       "      <th>Current First Half Tax Due</th>\n",
       "      <th>Interest Due on Current First Half Tax Due</th>\n",
       "      <th>Current Second Half Tax</th>\n",
       "      <th>Current Second Half Tax Due</th>\n",
       "      <th>Interest Due on Current Second Half Tax Due</th>\n",
       "      <th>Arrear Tax Due</th>\n",
       "      <th>Interest Due On Arrear Tax Due</th>\n",
       "      <th>Rebate Amount</th>\n",
       "      <th>Advance</th>\n",
       "      <th>Net Payable Amount</th>\n",
       "    </tr>\n",
       "  </thead>\n",
       "  <tbody>\n",
       "    <tr>\n",
       "      <th>0</th>\n",
       "      <td>0</td>\n",
       "      <td>1086458506</td>\n",
       "      <td>A. BALAKRISHNA REDDY</td>\n",
       "      <td>54-11-38, Revenue Ward 10, Isukathota Gazetted...</td>\n",
       "      <td>20115</td>\n",
       "      <td>0</td>\n",
       "      <td>0</td>\n",
       "      <td>20115</td>\n",
       "      <td>0</td>\n",
       "      <td>0</td>\n",
       "      <td>0</td>\n",
       "      <td>0</td>\n",
       "      <td>0.0</td>\n",
       "      <td>0.0</td>\n",
       "      <td>0</td>\n",
       "    </tr>\n",
       "    <tr>\n",
       "      <th>1</th>\n",
       "      <td>1</td>\n",
       "      <td>1086553965</td>\n",
       "      <td>JANAPAREDDY SREE SWETA LAKSHMI</td>\n",
       "      <td>5-35/6/FF202, Revenue Ward 6, YENDADA, Visakha...</td>\n",
       "      <td>673</td>\n",
       "      <td>0</td>\n",
       "      <td>0</td>\n",
       "      <td>673</td>\n",
       "      <td>0</td>\n",
       "      <td>0</td>\n",
       "      <td>0</td>\n",
       "      <td>0</td>\n",
       "      <td>0.0</td>\n",
       "      <td>0.0</td>\n",
       "      <td>0</td>\n",
       "    </tr>\n",
       "    <tr>\n",
       "      <th>2</th>\n",
       "      <td>2</td>\n",
       "      <td>1086087770</td>\n",
       "      <td>K KRISHNA REDDY</td>\n",
       "      <td>1-1-67/8, Revenue Ward 9, Visakhapatnam</td>\n",
       "      <td>115</td>\n",
       "      <td>0</td>\n",
       "      <td>0</td>\n",
       "      <td>115</td>\n",
       "      <td>0</td>\n",
       "      <td>0</td>\n",
       "      <td>0</td>\n",
       "      <td>0</td>\n",
       "      <td>0.0</td>\n",
       "      <td>0.0</td>\n",
       "      <td>0</td>\n",
       "    </tr>\n",
       "    <tr>\n",
       "      <th>3</th>\n",
       "      <td>3</td>\n",
       "      <td>1086071296</td>\n",
       "      <td>G V R REDDY</td>\n",
       "      <td>4-40-14/1, Revenue Ward 7, PEDA WALTAIR, Visak...</td>\n",
       "      <td>1241</td>\n",
       "      <td>1235</td>\n",
       "      <td>100</td>\n",
       "      <td>1241</td>\n",
       "      <td>1241</td>\n",
       "      <td>0</td>\n",
       "      <td>0</td>\n",
       "      <td>0</td>\n",
       "      <td>0.0</td>\n",
       "      <td>0.0</td>\n",
       "      <td>2576</td>\n",
       "    </tr>\n",
       "    <tr>\n",
       "      <th>4</th>\n",
       "      <td>4</td>\n",
       "      <td>1086306067</td>\n",
       "      <td>D. LOKENDRA REDDY</td>\n",
       "      <td>24-76-9/4, Revenue Ward 52, SAMATA NAGAR, Visa...</td>\n",
       "      <td>7061</td>\n",
       "      <td>0</td>\n",
       "      <td>0</td>\n",
       "      <td>7061</td>\n",
       "      <td>0</td>\n",
       "      <td>0</td>\n",
       "      <td>0</td>\n",
       "      <td>0</td>\n",
       "      <td>0.0</td>\n",
       "      <td>0.0</td>\n",
       "      <td>0</td>\n",
       "    </tr>\n",
       "  </tbody>\n",
       "</table>\n",
       "</div>"
      ],
      "text/plain": [
       "   Unnamed: 0  Assessment Number                      Owner Name  \\\n",
       "0           0         1086458506            A. BALAKRISHNA REDDY   \n",
       "1           1         1086553965  JANAPAREDDY SREE SWETA LAKSHMI   \n",
       "2           2         1086087770                 K KRISHNA REDDY   \n",
       "3           3         1086071296                     G V R REDDY   \n",
       "4           4         1086306067               D. LOKENDRA REDDY   \n",
       "\n",
       "                                             Address  Current First Half Tax  \\\n",
       "0  54-11-38, Revenue Ward 10, Isukathota Gazetted...                   20115   \n",
       "1  5-35/6/FF202, Revenue Ward 6, YENDADA, Visakha...                     673   \n",
       "2            1-1-67/8, Revenue Ward 9, Visakhapatnam                     115   \n",
       "3  4-40-14/1, Revenue Ward 7, PEDA WALTAIR, Visak...                    1241   \n",
       "4  24-76-9/4, Revenue Ward 52, SAMATA NAGAR, Visa...                    7061   \n",
       "\n",
       "   Current First Half Tax Due  Interest Due on Current First Half Tax Due  \\\n",
       "0                           0                                           0   \n",
       "1                           0                                           0   \n",
       "2                           0                                           0   \n",
       "3                        1235                                         100   \n",
       "4                           0                                           0   \n",
       "\n",
       "   Current Second Half Tax  Current Second Half Tax Due  \\\n",
       "0                    20115                            0   \n",
       "1                      673                            0   \n",
       "2                      115                            0   \n",
       "3                     1241                         1241   \n",
       "4                     7061                            0   \n",
       "\n",
       "   Interest Due on Current Second Half Tax Due  Arrear Tax Due  \\\n",
       "0                                            0               0   \n",
       "1                                            0               0   \n",
       "2                                            0               0   \n",
       "3                                            0               0   \n",
       "4                                            0               0   \n",
       "\n",
       "   Interest Due On Arrear Tax Due  Rebate Amount  Advance  Net Payable Amount  \n",
       "0                               0            0.0      0.0                   0  \n",
       "1                               0            0.0      0.0                   0  \n",
       "2                               0            0.0      0.0                   0  \n",
       "3                               0            0.0      0.0                2576  \n",
       "4                               0            0.0      0.0                   0  "
      ]
     },
     "execution_count": 1,
     "metadata": {},
     "output_type": "execute_result"
    }
   ],
   "source": [
    "import pandas as pd\n",
    "df=pd.read_csv(\"unique_records.csv\")\n",
    "df.head()"
   ]
  },
  {
   "cell_type": "code",
   "execution_count": 11,
   "id": "39bf7616",
   "metadata": {},
   "outputs": [
    {
     "data": {
      "text/plain": [
       "14695"
      ]
     },
     "execution_count": 11,
     "metadata": {},
     "output_type": "execute_result"
    }
   ],
   "source": [
    "len(df[\"Assessment Number\"].unique())"
   ]
  },
  {
   "cell_type": "code",
   "execution_count": 12,
   "id": "0cf13af9",
   "metadata": {},
   "outputs": [
    {
     "data": {
      "text/plain": [
       "(53236, 15)"
      ]
     },
     "execution_count": 12,
     "metadata": {},
     "output_type": "execute_result"
    }
   ],
   "source": [
    "df.shape"
   ]
  },
  {
   "cell_type": "code",
   "execution_count": null,
   "id": "537e7843",
   "metadata": {},
   "outputs": [],
   "source": []
  }
 ],
 "metadata": {
  "kernelspec": {
   "display_name": "Python 3 (ipykernel)",
   "language": "python",
   "name": "python3"
  },
  "language_info": {
   "codemirror_mode": {
    "name": "ipython",
    "version": 3
   },
   "file_extension": ".py",
   "mimetype": "text/x-python",
   "name": "python",
   "nbconvert_exporter": "python",
   "pygments_lexer": "ipython3",
   "version": "3.10.0"
  }
 },
 "nbformat": 4,
 "nbformat_minor": 5
}
